{
 "cells": [
  {
   "cell_type": "code",
   "execution_count": null,
   "metadata": {
    "colab": {
     "base_uri": "https://localhost:8080/"
    },
    "id": "YEuc_fhHXS2N",
    "outputId": "eaf4c00f-962c-4757-cfeb-c2ffd3219922"
   },
   "outputs": [
    {
     "name": "stdout",
     "output_type": "stream",
     "text": [
      "Mounted at /content/gdrive\n"
     ]
    }
   ],
   "source": [
    "from google.colab import drive\n",
    "drive.mount('/content/gdrive')"
   ]
  },
  {
   "cell_type": "code",
   "execution_count": null,
   "metadata": {
    "id": "UZLgRHDHYMDR"
   },
   "outputs": [],
   "source": [
    "!unzip \"/content/gdrive/MyDrive/AI/fer2013.zip\" -d \"/content/gdrive/MyDrive/AI\""
   ]
  },
  {
   "cell_type": "markdown",
   "metadata": {
    "id": "ALjIk8_GUFbQ"
   },
   "source": [
    "### Import Libraries"
   ]
  },
  {
   "cell_type": "code",
   "execution_count": null,
   "metadata": {
    "id": "fo-g8_6NUFbc"
   },
   "outputs": [],
   "source": [
    "import numpy as np\n",
    "import matplotlib.pyplot as plt\n",
    "import os\n",
    "import cv2\n",
    "%matplotlib inline\n",
    "\n",
    "import tensorflow as tf\n",
    "from tensorflow.keras.preprocessing.image import ImageDataGenerator\n",
    "from tensorflow.keras.layers import Dense, Input, Dropout,Flatten, Conv2D\n",
    "from tensorflow.keras.layers import BatchNormalization, Activation, MaxPooling2D\n",
    "from tensorflow.keras.models import Model, Sequential\n",
    "from tensorflow.keras.optimizers import Adam, SGD\n",
    "from tensorflow.keras.callbacks import ModelCheckpoint, ReduceLROnPlateau\n",
    "from tensorflow.keras.utils import plot_model\n"
   ]
  },
  {
   "cell_type": "markdown",
   "metadata": {
    "id": "Wz-Tiku2UFbe"
   },
   "source": [
    "### Train Data Information"
   ]
  },
  {
   "cell_type": "code",
   "execution_count": null,
   "metadata": {
    "id": "fzs_uQulR9NB"
   },
   "outputs": [],
   "source": [
    "def dataset_info(datapath):\n",
    "  print(datapath.split(\"/\")[-2] + \": \")\n",
    "  sum = 0\n",
    "  for emotion in os.listdir(datapath):\n",
    "    length = len(os.listdir(datapath + emotion))\n",
    "    sum += length\n",
    "    print(f\"{str(length)} {emotion} images\")\n",
    "  print(f\"Total: {sum}\\n\")"
   ]
  },
  {
   "cell_type": "code",
   "execution_count": null,
   "metadata": {
    "id": "IfdMtGt7STxA"
   },
   "outputs": [],
   "source": [
    "dataset_info(\"/content/gdrive/MyDrive/AI/fer2013/train/\")\n",
    "dataset_info(\"/content/gdrive/MyDrive/AI/fer2013/validation/\")\n",
    "dataset_info(\"/content/gdrive/MyDrive/AI/fer2013/test/\")"
   ]
  },
  {
   "cell_type": "markdown",
   "metadata": {
    "id": "PWzvOrpJUFbh"
   },
   "source": [
    "### Data Augmentation and Generation"
   ]
  },
  {
   "cell_type": "code",
   "execution_count": null,
   "metadata": {
    "id": "-bEjYysD1evM"
   },
   "outputs": [],
   "source": [
    "BS = 128\n",
    "\n",
    "def get_datagen(dataset, aug=False):\n",
    "    if aug:\n",
    "        datagen = ImageDataGenerator(rescale=1./255, featurewise_center=False, featurewise_std_normalization=False,\n",
    "                            rotation_range=10, width_shift_range=0.1, height_shift_range=0.1,\n",
    "                            zoom_range=0.1, horizontal_flip=True)\n",
    "    else:\n",
    "        datagen = ImageDataGenerator(rescale=1./255)\n",
    "\n",
    "    return datagen.flow_from_directory(dataset, target_size=(48, 48), color_mode='grayscale',\n",
    "            shuffle = True, class_mode='categorical', batch_size=BS)"
   ]
  },
  {
   "cell_type": "code",
   "execution_count": null,
   "metadata": {
    "colab": {
     "base_uri": "https://localhost:8080/"
    },
    "id": "GrBgN5a41gkZ",
    "outputId": "594485f1-88bf-401a-ccd4-661fb8845352"
   },
   "outputs": [
    {
     "name": "stdout",
     "output_type": "stream",
     "text": [
      "Found 28709 images belonging to 7 classes.\n",
      "Found 3589 images belonging to 7 classes.\n",
      "Found 3589 images belonging to 7 classes.\n"
     ]
    }
   ],
   "source": [
    "train_gen = get_datagen('/content/gdrive/MyDrive/AI/fer2013/train', True)\n",
    "val_gen = get_datagen('/content/gdrive/MyDrive/AI/fer2013/validation')\n",
    "test_gen = get_datagen('/content/gdrive/MyDrive/AI/fer2013/test')"
   ]
  },
  {
   "cell_type": "markdown",
   "metadata": {
    "id": "2uobXAwQUFbj"
   },
   "source": [
    "### Convolutional Neural Network"
   ]
  },
  {
   "cell_type": "code",
   "execution_count": null,
   "metadata": {
    "id": "zvHhYNQtUFbk"
   },
   "outputs": [],
   "source": [
    "model = Sequential()\n",
    "model.add(BatchNormalization(input_shape=(48,48,1)))\n",
    "model.add(Conv2D(32, (3, 3), activation='relu',padding='same', input_shape=(48,48,1),name=\"conv1\"))\n",
    "model.add(BatchNormalization())\n",
    "#model.add(MaxPooling2D(pool_size=(2, 2),name=\"maxpool1\"))\n",
    "model.add(Dropout(0.2))\n",
    "model.add(Conv2D(32, (3, 3), activation='relu',padding='same',name=\"conv2\"))\n",
    "model.add(BatchNormalization())\n",
    "model.add(MaxPooling2D(pool_size=(2, 2),name=\"maxpool2\"))         \n",
    "model.add(Dropout(0.2))\n",
    "model.add(Conv2D(64, (3, 3), activation='relu',padding='same',name=\"conv3\"))\n",
    "model.add(BatchNormalization())\n",
    "model.add(MaxPooling2D(pool_size=(2, 2),name=\"maxpool3\"))\n",
    "model.add(Dropout(0.2))\n",
    "model.add(Conv2D(64, (3, 3), activation='relu',padding='same',name=\"conv4\"))\n",
    "model.add(BatchNormalization())\n",
    "model.add(MaxPooling2D(pool_size=(2, 2),name=\"maxpool4\"))\n",
    "model.add(Dropout(0.2))\n",
    "model.add(Flatten())\n",
    "model.add(Dense(1024, activation='relu',name='fc1'))\n",
    "model.add(Dropout(0.3))\n",
    "model.add(BatchNormalization())\n",
    "model.add(Dense(7, activation='softmax',name='fcsoftmax'))\n",
    "\n",
    "sgd = SGD(learning_rate=0.01,momentum=0.9, decay=0.0001, nesterov=True)\n",
    "model.compile(loss='categorical_crossentropy',optimizer=sgd,metrics=['accuracy'])"
   ]
  },
  {
   "cell_type": "markdown",
   "metadata": {
    "id": "aCmLq-o8pgDj"
   },
   "source": [
    "### Training Neural Network"
   ]
  },
  {
   "cell_type": "code",
   "execution_count": null,
   "metadata": {
    "colab": {
     "base_uri": "https://localhost:8080/"
    },
    "id": "s9dUOXj5UFbn",
    "outputId": "9f6f854f-2618-418f-be8e-3d3753cb3291"
   },
   "outputs": [
    {
     "name": "stdout",
     "output_type": "stream",
     "text": [
      "Epoch 1/50\n",
      "225/225 [==============================] - 19s 86ms/step - loss: 1.5867 - accuracy: 0.3912 - val_loss: 1.4609 - val_accuracy: 0.4609\n",
      "\n",
      "Epoch 00001: val_accuracy improved from -inf to 0.46085, saving model to models/model_weights.h5\n",
      "Epoch 2/50\n",
      "225/225 [==============================] - 19s 84ms/step - loss: 1.5232 - accuracy: 0.4184 - val_loss: 1.5110 - val_accuracy: 0.4653\n",
      "\n",
      "Epoch 00002: val_accuracy improved from 0.46085 to 0.46531, saving model to models/model_weights.h5\n",
      "Epoch 3/50\n",
      "225/225 [==============================] - 19s 84ms/step - loss: 1.4806 - accuracy: 0.4331 - val_loss: 1.3147 - val_accuracy: 0.5071\n",
      "\n",
      "Epoch 00003: val_accuracy improved from 0.46531 to 0.50711, saving model to models/model_weights.h5\n",
      "Epoch 4/50\n",
      "225/225 [==============================] - 19s 83ms/step - loss: 1.4454 - accuracy: 0.4490 - val_loss: 1.3235 - val_accuracy: 0.5032\n",
      "\n",
      "Epoch 00004: val_accuracy did not improve from 0.50711\n",
      "Epoch 5/50\n",
      "225/225 [==============================] - 19s 83ms/step - loss: 1.4134 - accuracy: 0.4611 - val_loss: 1.2587 - val_accuracy: 0.5185\n",
      "\n",
      "Epoch 00005: val_accuracy improved from 0.50711 to 0.51853, saving model to models/model_weights.h5\n",
      "Epoch 6/50\n",
      "225/225 [==============================] - 19s 83ms/step - loss: 1.3905 - accuracy: 0.4712 - val_loss: 1.2366 - val_accuracy: 0.5272\n",
      "\n",
      "Epoch 00006: val_accuracy improved from 0.51853 to 0.52717, saving model to models/model_weights.h5\n",
      "Epoch 7/50\n",
      "225/225 [==============================] - 19s 83ms/step - loss: 1.3763 - accuracy: 0.4731 - val_loss: 1.2384 - val_accuracy: 0.5255\n",
      "\n",
      "Epoch 00007: val_accuracy did not improve from 0.52717\n",
      "Epoch 8/50\n",
      "225/225 [==============================] - 19s 84ms/step - loss: 1.3480 - accuracy: 0.4843 - val_loss: 1.2144 - val_accuracy: 0.5366\n",
      "\n",
      "Epoch 00008: val_accuracy improved from 0.52717 to 0.53664, saving model to models/model_weights.h5\n",
      "Epoch 9/50\n",
      "225/225 [==============================] - 19s 83ms/step - loss: 1.3275 - accuracy: 0.4924 - val_loss: 1.1933 - val_accuracy: 0.5456\n",
      "\n",
      "Epoch 00009: val_accuracy improved from 0.53664 to 0.54556, saving model to models/model_weights.h5\n",
      "Epoch 10/50\n",
      "225/225 [==============================] - 19s 84ms/step - loss: 1.3100 - accuracy: 0.5008 - val_loss: 1.1828 - val_accuracy: 0.5520\n",
      "\n",
      "Epoch 00010: val_accuracy improved from 0.54556 to 0.55196, saving model to models/model_weights.h5\n",
      "Epoch 11/50\n",
      "225/225 [==============================] - 19s 83ms/step - loss: 1.2971 - accuracy: 0.5045 - val_loss: 1.2125 - val_accuracy: 0.5511\n",
      "\n",
      "Epoch 00011: val_accuracy did not improve from 0.55196\n",
      "Epoch 12/50\n",
      "225/225 [==============================] - 19s 84ms/step - loss: 1.2822 - accuracy: 0.5120 - val_loss: 1.1562 - val_accuracy: 0.5678\n",
      "\n",
      "Epoch 00012: val_accuracy improved from 0.55196 to 0.56785, saving model to models/model_weights.h5\n",
      "Epoch 13/50\n",
      "225/225 [==============================] - 19s 86ms/step - loss: 1.2785 - accuracy: 0.5098 - val_loss: 1.1793 - val_accuracy: 0.5642\n",
      "\n",
      "Epoch 00013: val_accuracy did not improve from 0.56785\n",
      "Epoch 14/50\n",
      "225/225 [==============================] - 20s 88ms/step - loss: 1.2608 - accuracy: 0.5216 - val_loss: 1.1742 - val_accuracy: 0.5662\n",
      "\n",
      "Epoch 00014: val_accuracy did not improve from 0.56785\n",
      "Epoch 15/50\n",
      "225/225 [==============================] - 19s 86ms/step - loss: 1.2471 - accuracy: 0.5244 - val_loss: 1.1753 - val_accuracy: 0.5592\n",
      "\n",
      "Epoch 00015: val_accuracy did not improve from 0.56785\n",
      "Epoch 16/50\n",
      "225/225 [==============================] - 19s 83ms/step - loss: 1.2423 - accuracy: 0.5267 - val_loss: 1.1454 - val_accuracy: 0.5723\n",
      "\n",
      "Epoch 00016: val_accuracy improved from 0.56785 to 0.57230, saving model to models/model_weights.h5\n",
      "Epoch 17/50\n",
      "225/225 [==============================] - 19s 83ms/step - loss: 1.2318 - accuracy: 0.5301 - val_loss: 1.1235 - val_accuracy: 0.5779\n",
      "\n",
      "Epoch 00017: val_accuracy improved from 0.57230 to 0.57788, saving model to models/model_weights.h5\n",
      "Epoch 18/50\n",
      "225/225 [==============================] - 19s 83ms/step - loss: 1.2235 - accuracy: 0.5357 - val_loss: 1.1308 - val_accuracy: 0.5712\n",
      "\n",
      "Epoch 00018: val_accuracy did not improve from 0.57788\n",
      "Epoch 19/50\n",
      "225/225 [==============================] - 19s 83ms/step - loss: 1.2096 - accuracy: 0.5407 - val_loss: 1.1034 - val_accuracy: 0.5896\n",
      "\n",
      "Epoch 00019: val_accuracy improved from 0.57788 to 0.58958, saving model to models/model_weights.h5\n",
      "Epoch 20/50\n",
      "225/225 [==============================] - 19s 84ms/step - loss: 1.2064 - accuracy: 0.5410 - val_loss: 1.1227 - val_accuracy: 0.5776\n",
      "\n",
      "Epoch 00020: val_accuracy did not improve from 0.58958\n",
      "Epoch 21/50\n",
      "225/225 [==============================] - 19s 83ms/step - loss: 1.1963 - accuracy: 0.5459 - val_loss: 1.1100 - val_accuracy: 0.5795\n",
      "\n",
      "Epoch 00021: val_accuracy did not improve from 0.58958\n",
      "Epoch 22/50\n",
      "225/225 [==============================] - 19s 82ms/step - loss: 1.1889 - accuracy: 0.5474 - val_loss: 1.0900 - val_accuracy: 0.5865\n",
      "\n",
      "Epoch 00022: val_accuracy did not improve from 0.58958\n",
      "Epoch 23/50\n",
      "225/225 [==============================] - 19s 82ms/step - loss: 1.1783 - accuracy: 0.5526 - val_loss: 1.0838 - val_accuracy: 0.5952\n",
      "\n",
      "Epoch 00023: val_accuracy improved from 0.58958 to 0.59515, saving model to models/model_weights.h5\n",
      "Epoch 24/50\n",
      "225/225 [==============================] - 19s 83ms/step - loss: 1.1730 - accuracy: 0.5556 - val_loss: 1.0847 - val_accuracy: 0.5949\n",
      "\n",
      "Epoch 00024: val_accuracy did not improve from 0.59515\n",
      "Epoch 25/50\n",
      "225/225 [==============================] - 19s 82ms/step - loss: 1.1662 - accuracy: 0.5586 - val_loss: 1.0928 - val_accuracy: 0.5910\n",
      "\n",
      "Epoch 00025: val_accuracy did not improve from 0.59515\n",
      "Epoch 26/50\n",
      "225/225 [==============================] - 19s 82ms/step - loss: 1.1602 - accuracy: 0.5589 - val_loss: 1.0708 - val_accuracy: 0.6032\n",
      "\n",
      "Epoch 00026: val_accuracy improved from 0.59515 to 0.60323, saving model to models/model_weights.h5\n",
      "Epoch 27/50\n",
      "225/225 [==============================] - 19s 82ms/step - loss: 1.1565 - accuracy: 0.5607 - val_loss: 1.0692 - val_accuracy: 0.6052\n",
      "\n",
      "Epoch 00027: val_accuracy improved from 0.60323 to 0.60518, saving model to models/model_weights.h5\n",
      "Epoch 28/50\n",
      "225/225 [==============================] - 19s 83ms/step - loss: 1.1510 - accuracy: 0.5657 - val_loss: 1.0713 - val_accuracy: 0.6021\n",
      "\n",
      "Epoch 00028: val_accuracy did not improve from 0.60518\n",
      "Epoch 29/50\n",
      "225/225 [==============================] - 19s 83ms/step - loss: 1.1412 - accuracy: 0.5626 - val_loss: 1.0741 - val_accuracy: 0.6069\n",
      "\n",
      "Epoch 00029: val_accuracy improved from 0.60518 to 0.60685, saving model to models/model_weights.h5\n",
      "Epoch 30/50\n",
      "225/225 [==============================] - 19s 83ms/step - loss: 1.1386 - accuracy: 0.5683 - val_loss: 1.0881 - val_accuracy: 0.5957\n",
      "\n",
      "Epoch 00030: val_accuracy did not improve from 0.60685\n",
      "Epoch 31/50\n",
      "225/225 [==============================] - 19s 84ms/step - loss: 1.1327 - accuracy: 0.5704 - val_loss: 1.0620 - val_accuracy: 0.6016\n",
      "\n",
      "Epoch 00031: val_accuracy did not improve from 0.60685\n",
      "Epoch 32/50\n",
      "225/225 [==============================] - 19s 85ms/step - loss: 1.1362 - accuracy: 0.5687 - val_loss: 1.0570 - val_accuracy: 0.6071\n",
      "\n",
      "Epoch 00032: val_accuracy improved from 0.60685 to 0.60713, saving model to models/model_weights.h5\n",
      "Epoch 33/50\n",
      "225/225 [==============================] - 20s 91ms/step - loss: 1.1240 - accuracy: 0.5756 - val_loss: 1.0525 - val_accuracy: 0.6094\n",
      "\n",
      "Epoch 00033: val_accuracy improved from 0.60713 to 0.60936, saving model to models/model_weights.h5\n",
      "Epoch 34/50\n",
      "225/225 [==============================] - 19s 84ms/step - loss: 1.1150 - accuracy: 0.5774 - val_loss: 1.0598 - val_accuracy: 0.5996\n",
      "\n",
      "Epoch 00034: val_accuracy did not improve from 0.60936\n",
      "Epoch 35/50\n",
      "225/225 [==============================] - 19s 84ms/step - loss: 1.1152 - accuracy: 0.5793 - val_loss: 1.0498 - val_accuracy: 0.6088\n",
      "\n",
      "Epoch 00035: val_accuracy did not improve from 0.60936\n",
      "Epoch 36/50\n",
      "225/225 [==============================] - 19s 85ms/step - loss: 1.1079 - accuracy: 0.5817 - val_loss: 1.0580 - val_accuracy: 0.6080\n",
      "\n",
      "Epoch 00036: val_accuracy did not improve from 0.60936\n",
      "Epoch 37/50\n",
      "225/225 [==============================] - 20s 88ms/step - loss: 1.1029 - accuracy: 0.5826 - val_loss: 1.0469 - val_accuracy: 0.6130\n",
      "\n",
      "Epoch 00037: val_accuracy improved from 0.60936 to 0.61298, saving model to models/model_weights.h5\n",
      "Epoch 38/50\n",
      "225/225 [==============================] - 19s 85ms/step - loss: 1.0966 - accuracy: 0.5846 - val_loss: 1.0431 - val_accuracy: 0.6077\n",
      "\n",
      "Epoch 00038: val_accuracy did not improve from 0.61298\n",
      "Epoch 39/50\n",
      "225/225 [==============================] - 19s 85ms/step - loss: 1.0984 - accuracy: 0.5838 - val_loss: 1.0518 - val_accuracy: 0.6074\n",
      "\n",
      "Epoch 00039: val_accuracy did not improve from 0.61298\n",
      "Epoch 40/50\n",
      "225/225 [==============================] - 19s 85ms/step - loss: 1.0919 - accuracy: 0.5871 - val_loss: 1.0436 - val_accuracy: 0.6149\n",
      "\n",
      "Epoch 00040: val_accuracy improved from 0.61298 to 0.61493, saving model to models/model_weights.h5\n",
      "Epoch 41/50\n",
      "225/225 [==============================] - 19s 85ms/step - loss: 1.0926 - accuracy: 0.5873 - val_loss: 1.0469 - val_accuracy: 0.6144\n",
      "\n",
      "Epoch 00041: val_accuracy did not improve from 0.61493\n",
      "Epoch 42/50\n",
      "225/225 [==============================] - 20s 88ms/step - loss: 1.0859 - accuracy: 0.5889 - val_loss: 1.0388 - val_accuracy: 0.6088\n",
      "\n",
      "Epoch 00042: val_accuracy did not improve from 0.61493\n",
      "Epoch 43/50\n",
      "225/225 [==============================] - 19s 86ms/step - loss: 1.0865 - accuracy: 0.5901 - val_loss: 1.0511 - val_accuracy: 0.6205\n",
      "\n",
      "Epoch 00043: val_accuracy improved from 0.61493 to 0.62051, saving model to models/model_weights.h5\n",
      "Epoch 44/50\n",
      "225/225 [==============================] - 19s 86ms/step - loss: 1.0777 - accuracy: 0.5919 - val_loss: 1.0385 - val_accuracy: 0.6116\n",
      "\n",
      "Epoch 00044: val_accuracy did not improve from 0.62051\n",
      "Epoch 45/50\n",
      "225/225 [==============================] - 20s 87ms/step - loss: 1.0779 - accuracy: 0.5927 - val_loss: 1.0337 - val_accuracy: 0.6166\n",
      "\n",
      "Epoch 00045: val_accuracy did not improve from 0.62051\n",
      "Epoch 46/50\n",
      "225/225 [==============================] - 19s 87ms/step - loss: 1.0753 - accuracy: 0.5898 - val_loss: 1.0276 - val_accuracy: 0.6233\n",
      "\n",
      "Epoch 00046: val_accuracy improved from 0.62051 to 0.62329, saving model to models/model_weights.h5\n",
      "Epoch 47/50\n",
      "225/225 [==============================] - 20s 88ms/step - loss: 1.0728 - accuracy: 0.5959 - val_loss: 1.0273 - val_accuracy: 0.6230\n",
      "\n",
      "Epoch 00047: val_accuracy did not improve from 0.62329\n",
      "Epoch 48/50\n",
      "225/225 [==============================] - 19s 86ms/step - loss: 1.0647 - accuracy: 0.5953 - val_loss: 1.0311 - val_accuracy: 0.6152\n",
      "\n",
      "Epoch 00048: val_accuracy did not improve from 0.62329\n",
      "Epoch 49/50\n",
      "225/225 [==============================] - 19s 85ms/step - loss: 1.0651 - accuracy: 0.5996 - val_loss: 1.0279 - val_accuracy: 0.6272\n",
      "\n",
      "Epoch 00049: val_accuracy improved from 0.62329 to 0.62719, saving model to models/model_weights.h5\n",
      "Epoch 50/50\n",
      "225/225 [==============================] - 19s 85ms/step - loss: 1.0605 - accuracy: 0.5978 - val_loss: 1.0336 - val_accuracy: 0.6255\n",
      "\n",
      "Epoch 00050: val_accuracy did not improve from 0.62719\n"
     ]
    }
   ],
   "source": [
    "epochs = 50\n",
    "steps_per_epoch = train_gen.n // train_gen.batch_size\n",
    "validation_steps = val_gen.n // val_gen.batch_size\n",
    "\n",
    "model_path = \"/content/gdrive/MyDrive/AI/models/\"\n",
    "\n",
    "reduce_lr = ReduceLROnPlateau(monitor='val_accuracy',mode='max',factor=0.5, patience=10, min_lr=0.00001, verbose=1)\n",
    "checkpoint = ModelCheckpoint(model_path+\"model_weights.h5\", monitor='val_accuracy', verbose=1, save_weights_only=True,\n",
    "                             save_best_only=True, mode='max')\n",
    "callbacks_list = [reduce_lr,checkpoint]\n",
    "\n",
    "history = model.fit(x = train_gen, validation_data = val_gen, shuffle=True,\n",
    "                              epochs=50, callbacks = callbacks_list, use_multiprocessing=False,)"
   ]
  },
  {
   "cell_type": "markdown",
   "metadata": {
    "id": "CWTkIfXYpmEZ"
   },
   "source": [
    "### Save Model Architecture"
   ]
  },
  {
   "cell_type": "code",
   "execution_count": null,
   "metadata": {
    "id": "OyFL-pmGUFbo"
   },
   "outputs": [],
   "source": [
    "model_json = model.to_json()\n",
    "with open(model_path+\"model.json\",\"w\") as json_file:\n",
    "    json_file.write(model_json)"
   ]
  },
  {
   "cell_type": "code",
   "execution_count": null,
   "metadata": {
    "colab": {
     "base_uri": "https://localhost:8080/"
    },
    "id": "JJKqt2fQ0xE0",
    "outputId": "eb14e7df-7b04-4e50-be82-e617ba9d184b"
   },
   "outputs": [
    {
     "name": "stderr",
     "output_type": "stream",
     "text": [
      "/usr/local/lib/python3.7/dist-packages/tensorflow/python/keras/engine/training.py:1973: UserWarning: `Model.evaluate_generator` is deprecated and will be removed in a future version. Please use `Model.evaluate`, which supports generators.\n",
      "  warnings.warn('`Model.evaluate_generator` is deprecated and '\n"
     ]
    },
    {
     "name": "stdout",
     "output_type": "stream",
     "text": [
      "test loss, test acc: [0.9906769394874573, 0.6385995149612427]\n"
     ]
    }
   ],
   "source": [
    "results_test = model.evaluate_generator(test_gen, 3560 // BS)\n",
    "print('test loss, test acc:', results_test)"
   ]
  },
  {
   "cell_type": "code",
   "execution_count": null,
   "metadata": {
    "id": "_9nEr0Ez7Bjk"
   },
   "outputs": [],
   "source": []
  }
 ],
 "metadata": {
  "accelerator": "GPU",
  "colab": {
   "collapsed_sections": [],
   "name": "Emotion_Detection_Training.ipynb",
   "provenance": []
  },
  "kernelspec": {
   "display_name": "Python 3",
   "language": "python",
   "name": "python3"
  },
  "language_info": {
   "codemirror_mode": {
    "name": "ipython",
    "version": 3
   },
   "file_extension": ".py",
   "mimetype": "text/x-python",
   "name": "python",
   "nbconvert_exporter": "python",
   "pygments_lexer": "ipython3",
   "version": "3.8.3"
  }
 },
 "nbformat": 4,
 "nbformat_minor": 1
}
